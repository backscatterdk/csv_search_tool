{
 "cells": [
  {
   "cell_type": "markdown",
   "metadata": {},
   "source": [
    "# Network search tool"
   ]
  },
  {
   "cell_type": "markdown",
   "metadata": {},
   "source": [
    "For at interact virker, installer ipywidgets\n",
    "\n",
    "1. `pip install ipywidgets`\n",
    "\n",
    "...og aktiver og installer extension til jupyter. For jupyter notebook kør\n",
    "\n",
    "2.a `jupyter nbextension enable --py widgetsnbextension`\n",
    "\n",
    "...eller for jupyter lab kør\n",
    "\n",
    "2.b `jupyter labextension install @jupyter-widgets/jupyterlab-manager`"
   ]
  },
  {
   "cell_type": "markdown",
   "metadata": {},
   "source": [
    "### Udfyld csv med data, e.g. 'min_data.csv'"
   ]
  },
  {
   "cell_type": "code",
   "execution_count": null,
   "metadata": {},
   "outputs": [],
   "source": [
    "FILEPATH = ''"
   ]
  },
  {
   "cell_type": "markdown",
   "metadata": {},
   "source": [
    "### Udfyld søge-kolonne, e.g. 'navneord'"
   ]
  },
  {
   "cell_type": "code",
   "execution_count": null,
   "metadata": {},
   "outputs": [],
   "source": [
    "SEARCH_COLUMN = ''"
   ]
  },
  {
   "attachments": {},
   "cell_type": "markdown",
   "metadata": {},
   "source": [
    "### Tryk `Cell` > `Run all`, og udfyld søgetermerne nederst\n",
    "`full1`, `full2`, `full3` er `full joins`\n",
    "\n",
    "`inner1`, `inner2`, `inner3` er `inner joins`.\n",
    "\n",
    "`exclude1`, `exclude2`, `exclude3` er `not`.\n",
    "\n",
    "\n",
    "             full1                     inner1\n",
    "    +------------+             +------------+\n",
    "    |xxxxxxxxxxxx|             |            |\n",
    "    |xxxxxxxxxxxx|             |            |\n",
    "    |xxxxxxxxxxxx|   full2     |            |  inner2\n",
    "    |xxxxx+--------------+     |     +--------------+\n",
    "    |xxxxx|xxxxxx|xxxxxxx|     |     |xxxxxx|       |\n",
    "    |xxxxx|xxxxxx|xxxxxxx|     |     |xxxxxx|       |\n",
    "    |xxxxx|xxxxxx|xxxxxxx|     |     |xxxxxx|       |\n",
    "    +-----|------+xxxxxxx|     +-----|------+       |\n",
    "          |xxxxxxxxxxxxxx|           |              |\n",
    "          |xxxxxxxxxxxxxx|           |              |\n",
    "          |xxxxxxxxxxxxxx|           |              |\n",
    "          +--------------+           +--------------+"
   ]
  },
  {
   "cell_type": "code",
   "execution_count": null,
   "metadata": {},
   "outputs": [],
   "source": [
    "import numpy as np\n",
    "import pandas as pd\n",
    "from IPython.display import display\n",
    "import ipywidgets as widgets\n",
    "from ipywidgets import interact, interact_manual\n",
    "\n",
    "DATA = pd.read_csv(FILEPATH)\n",
    "\n",
    "pd.set_option('display.max_colwidth', -1) # bred kolonne\n",
    "pd.set_option('display.max_rows', 10) # antal rækker\n",
    "\n",
    "@interact\n",
    "def show_articles_more_than(\n",
    "        full1='', full2='', full3='',\n",
    "        inner1='', inner2='', inner3='',\n",
    "        exclude1='', exclude2='', exclude3=''):\n",
    "    \n",
    "    contains = [s for s in [full1, full2, full3] if not s == '']\n",
    "    pattern = '|'.join(contains)\n",
    "    OUT = DATA[DATA[SEARCH_COLUMN].str.contains(pattern, regex=True, case=False, na=False)]\n",
    "    OUT = OUT[OUT[SEARCH_COLUMN].str.contains(inner1, case=False, na=False)]\n",
    "    OUT = OUT[OUT[SEARCH_COLUMN].str.contains(inner2, case=False, na=False)]\n",
    "    OUT = OUT[OUT[SEARCH_COLUMN].str.contains(inner3, case=False, na=False)]\n",
    "    if exclude1:\n",
    "        OUT = OUT[~OUT[SEARCH_COLUMN].str.contains(exclude1, case=False, na=False)]\n",
    "    if exclude2:\n",
    "        OUT = OUT[~OUT[SEARCH_COLUMN].str.contains(exclude2, case=False, na=False)]\n",
    "    if exclude3:\n",
    "        OUT = OUT[~OUT[SEARCH_COLUMN].str.contains(exclude3, case=False, na=False)]\n",
    "    return OUT"
   ]
  },
  {
   "cell_type": "code",
   "execution_count": null,
   "metadata": {},
   "outputs": [],
   "source": []
  },
  {
   "cell_type": "code",
   "execution_count": null,
   "metadata": {},
   "outputs": [],
   "source": []
  },
  {
   "cell_type": "code",
   "execution_count": null,
   "metadata": {},
   "outputs": [],
   "source": []
  },
  {
   "cell_type": "code",
   "execution_count": null,
   "metadata": {},
   "outputs": [],
   "source": []
  },
  {
   "cell_type": "code",
   "execution_count": null,
   "metadata": {},
   "outputs": [],
   "source": []
  }
 ],
 "metadata": {
  "kernelspec": {
   "display_name": "Python 3",
   "language": "python",
   "name": "python3"
  },
  "language_info": {
   "codemirror_mode": {
    "name": "ipython",
    "version": 3
   },
   "file_extension": ".py",
   "mimetype": "text/x-python",
   "name": "python",
   "nbconvert_exporter": "python",
   "pygments_lexer": "ipython3",
   "version": "3.7.4"
  }
 },
 "nbformat": 4,
 "nbformat_minor": 2
}
